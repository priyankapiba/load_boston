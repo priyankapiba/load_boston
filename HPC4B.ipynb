{
  "nbformat": 4,
  "nbformat_minor": 0,
  "metadata": {
    "colab": {
      "provenance": [],
      "gpuType": "T4"
    },
    "kernelspec": {
      "name": "python3",
      "display_name": "Python 3"
    },
    "language_info": {
      "name": "python"
    },
    "accelerator": "GPU",
    "gpuClass": "standard"
  },
  "cells": [
    {
      "cell_type": "code",
      "execution_count": null,
      "metadata": {
        "colab": {
          "base_uri": "https://localhost:8080/"
        },
        "id": "5uRHJLuHY686",
        "outputId": "29f6532d-0435-4f78-d563-56ecea18572a"
      },
      "outputs": [
        {
          "output_type": "stream",
          "name": "stdout",
          "text": [
            "Looking in indexes: https://pypi.org/simple, https://us-python.pkg.dev/colab-wheels/public/simple/\n",
            "Collecting git+https://github.com/andreinechaev/nvcc4jupyter.git\n",
            "  Cloning https://github.com/andreinechaev/nvcc4jupyter.git to /tmp/pip-req-build-ebkw_g5k\n",
            "  Running command git clone --filter=blob:none --quiet https://github.com/andreinechaev/nvcc4jupyter.git /tmp/pip-req-build-ebkw_g5k\n",
            "  Resolved https://github.com/andreinechaev/nvcc4jupyter.git to commit aac710a35f52bb78ab34d2e52517237941399eff\n",
            "  Preparing metadata (setup.py) ... \u001b[?25l\u001b[?25hdone\n",
            "Building wheels for collected packages: NVCCPlugin\n",
            "  Building wheel for NVCCPlugin (setup.py) ... \u001b[?25l\u001b[?25hdone\n",
            "  Created wheel for NVCCPlugin: filename=NVCCPlugin-0.0.2-py3-none-any.whl size=4287 sha256=6953986e5f94809db797f8f7c7fe82e504cfdbb903f8c3b3815149b8013ff0b0\n",
            "  Stored in directory: /tmp/pip-ephem-wheel-cache-khsi8kgl/wheels/a8/b9/18/23f8ef71ceb0f63297dd1903aedd067e6243a68ea756d6feea\n",
            "Successfully built NVCCPlugin\n",
            "Installing collected packages: NVCCPlugin\n",
            "Successfully installed NVCCPlugin-0.0.2\n"
          ]
        }
      ],
      "source": [
        "!pip install git+https://github.com/andreinechaev/nvcc4jupyter.git"
      ]
    },
    {
      "cell_type": "code",
      "source": [
        "%load_ext nvcc_plugin"
      ],
      "metadata": {
        "id": "Dn5tusYyZA5g",
        "colab": {
          "base_uri": "https://localhost:8080/"
        },
        "outputId": "6589d12c-d064-40d9-f83a-57145476f883"
      },
      "execution_count": null,
      "outputs": [
        {
          "output_type": "stream",
          "name": "stdout",
          "text": [
            "created output directory at /content/src\n",
            "Out bin /content/result.out\n"
          ]
        }
      ]
    },
    {
      "cell_type": "code",
      "source": [
        " %%cu\n",
        "#include <iostream>\n",
        "#include <cuda.h>\n",
        "\n",
        "using namespace std;\n",
        "\n",
        "#define BLOCK_SIZE 2\n",
        "\n",
        "__global__ void gpuMM(float *A, float *B, float *C, int N)\n",
        "{\n",
        "    // Matrix multiplication for NxN matrices C=A*B\n",
        "    // Each thread computes a single element of C\n",
        "    int row = blockIdx.y*blockDim.y + threadIdx.y;\n",
        "    int col = blockIdx.x*blockDim.x + threadIdx.x;\n",
        "\n",
        "    float sum = 0.f;\n",
        "    for (int n = 0; n < N; ++n)\n",
        "        sum += A[row*N+n]*B[n*N+col];\n",
        "\n",
        "    C[row*N+col] = sum;\n",
        "}\n",
        "\n",
        "int main()\n",
        "{\n",
        "    int N;\n",
        "    float K;\n",
        "    // Perform matrix multiplication C = A*B\n",
        "    // where A, B and C are NxN matrices\n",
        "    // Restricted to matrices where N = K*BLOCK_SIZE;\n",
        "    K = 2;\n",
        "    N = K*BLOCK_SIZE;\n",
        "\n",
        "    cout << \"Executing Matrix Multiplcation\" << endl;\n",
        "    cout << \"Matrix size: \" << N << \"x\" << N << endl;\n",
        "\n",
        "    // Allocate memory on the host\n",
        "    float *hA,*hB,*hC;\n",
        "    size_t bytes = N*N*sizeof(float);\n",
        "    hA = (float*)malloc(bytes);\n",
        "    hB = (float*)malloc(bytes);\n",
        "    hC = (float*)malloc(bytes);\n",
        " \n",
        "    // Allocate memory on the device\n",
        "    float *dA,*dB,*dC;\n",
        "    cudaMalloc(&dA,bytes);\n",
        "    cudaMalloc(&dB,bytes);\n",
        "    cudaMalloc(&dC,bytes);\n",
        "\n",
        "    // Initialize matrices on the host\n",
        "    for (int j=0; j<N; j++){\n",
        "        for (int i=0; i<N; i++){\n",
        "           hA[j*N+i] = 2;\n",
        "           hB[j*N+i] = 4;\n",
        "\n",
        "        }\n",
        "    }\n",
        "\n",
        "    dim3 threadBlock(BLOCK_SIZE,BLOCK_SIZE);\n",
        "    dim3 grid(K,K);\n",
        "    cout<<\"\\nInput Matrix 1 \\n\";\n",
        "    for (int row=0; row<N; row++){\n",
        "            for (int col=0; col<N; col++){\n",
        "\n",
        "                   cout<<hA[row*col]<<\"\t\";\n",
        "\n",
        "            }\n",
        "            cout<<endl;\n",
        "        }\n",
        "    cout<<\"\\nInput Matrix 2 \\n\";\n",
        "    for (int row=0; row<N; row++){\n",
        "            for (int col=0; col<N; col++){\n",
        "\n",
        "                   cout<<hB[row*col]<<\"\t\";\n",
        "\n",
        "            }\n",
        "            cout<<endl;\n",
        "        }\n",
        "    // Copy matrices from the host to device\n",
        "    cudaMemcpy(dA,hA,bytes,cudaMemcpyHostToDevice);\n",
        "    cudaMemcpy(dB,hB,bytes,cudaMemcpyHostToDevice);\n",
        "\n",
        "    //Execute the matrix multiplication kernel\n",
        "\n",
        "    gpuMM<<<grid,threadBlock>>>(dA,dB,dC,N);\n",
        "\n",
        "   \n",
        "\n",
        "    // Now copy the GPU result back to CPU\n",
        "    cudaMemcpy(hC,dC,bytes,cudaMemcpyDeviceToHost);\n",
        "\n",
        "    // Check the result and make sure it is correct\n",
        "    cout <<\"\\n\\n\\n\\n\\n Resultant matrix\\n\\n\";\n",
        "    for (int row=0; row<N; row++){\n",
        "        for (int col=0; col<N; col++){\n",
        "\n",
        "               cout<<hC[row*col]<<\"\t\";\n",
        "\n",
        "        }\n",
        "        cout<<endl;\n",
        "    }\n",
        "\n",
        "    cout << \"Finished.\" << endl;\n",
        "\n",
        "}\n",
        "\n"
      ],
      "metadata": {
        "colab": {
          "base_uri": "https://localhost:8080/"
        },
        "id": "zjgjqbK1ZUiw",
        "outputId": "ad8fc29a-4342-4a4d-c691-ab1ff9c05468"
      },
      "execution_count": null,
      "outputs": [
        {
          "output_type": "stream",
          "name": "stdout",
          "text": [
            "Executing Matrix Multiplcation\n",
            "Matrix size: 4x4\n",
            "\n",
            "Input Matrix 1 \n",
            "2\t2\t2\t2\t\n",
            "2\t2\t2\t2\t\n",
            "2\t2\t2\t2\t\n",
            "2\t2\t2\t2\t\n",
            "\n",
            "Input Matrix 2 \n",
            "4\t4\t4\t4\t\n",
            "4\t4\t4\t4\t\n",
            "4\t4\t4\t4\t\n",
            "4\t4\t4\t4\t\n",
            "\n",
            "\n",
            "\n",
            "\n",
            "\n",
            " Resultant matrix\n",
            "\n",
            "32\t32\t32\t32\t\n",
            "32\t32\t32\t32\t\n",
            "32\t32\t32\t32\t\n",
            "32\t32\t32\t32\t\n",
            "Finished.\n",
            "\n"
          ]
        }
      ]
    },
    {
      "cell_type": "code",
      "source": [],
      "metadata": {
        "id": "LLZcmFr-8hSV"
      },
      "execution_count": null,
      "outputs": []
    }
  ]
}